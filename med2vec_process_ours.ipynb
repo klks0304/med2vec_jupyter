{
 "cells": [
  {
   "cell_type": "code",
   "execution_count": 145,
   "id": "9ff2bb2a",
   "metadata": {},
   "outputs": [],
   "source": [
    "import sys\n",
    "#import cPickle as pickle\n",
    "import pickle\n",
    "from datetime import datetime"
   ]
  },
  {
   "cell_type": "code",
   "execution_count": 146,
   "id": "141d63e9",
   "metadata": {},
   "outputs": [],
   "source": [
    "def convert_to_icd9(dxStr):\n",
    "\tif dxStr.startswith('E'):\n",
    "\t\tif len(dxStr) > 4: return dxStr[:4] + '.' + dxStr[4:]\n",
    "\t\telse: return dxStr\n",
    "\telse:\n",
    "\t\tif len(dxStr) > 3: return dxStr[:3] + '.' + dxStr[3:]\n",
    "\t\telse: return dxStr"
   ]
  },
  {
   "cell_type": "code",
   "execution_count": 95,
   "id": "9bd4b61f",
   "metadata": {},
   "outputs": [],
   "source": [
    "def convert_to_3digit_icd9(dxStr):\n",
    "    if str(dxStr)==\"nan\": return dxStr\n",
    "    if dxStr.startswith('E'):\n",
    "        if len(dxStr) > 4: return dxStr[:4]\n",
    "        else: return dxStr\n",
    "    else:\n",
    "        if len(dxStr) > 3: return dxStr[:3]\n",
    "        else: return dxStr"
   ]
  },
  {
   "cell_type": "code",
   "execution_count": 96,
   "id": "f72eec7a",
   "metadata": {},
   "outputs": [],
   "source": [
    "import pandas as pd"
   ]
  },
  {
   "cell_type": "code",
   "execution_count": 155,
   "id": "ad5cde8c",
   "metadata": {},
   "outputs": [
    {
     "name": "stderr",
     "output_type": "stream",
     "text": [
      "/home/katie/anaconda3/envs/nhri/lib/python3.8/site-packages/IPython/core/interactiveshell.py:3441: DtypeWarning: Columns (1,4,10,11) have mixed types.Specify dtype option on import or set low_memory=False.\n",
      "  exec(code_obj, self.user_global_ns, self.user_ns)\n"
     ]
    }
   ],
   "source": [
    "df = pd.read_csv(\"../hdd0/data/R301_CD.csv\")"
   ]
  },
  {
   "cell_type": "code",
   "execution_count": 156,
   "id": "7f44bfdb",
   "metadata": {},
   "outputs": [],
   "source": [
    "nonzeroids = df[\"ACODE_ICD9_1\"].dropna().index"
   ]
  },
  {
   "cell_type": "code",
   "execution_count": 157,
   "id": "ea211248",
   "metadata": {},
   "outputs": [],
   "source": [
    "df[\"ACODE_ICD9_1\"] = df[\"ACODE_ICD9_1\"].astype(str)\n",
    "df[\"ACODE_ICD9_2\"] = df[\"ACODE_ICD9_2\"].astype(str)\n",
    "df[\"ACODE_ICD9_3\"] = df[\"ACODE_ICD9_3\"].astype(str)"
   ]
  },
  {
   "cell_type": "code",
   "execution_count": 158,
   "id": "ba4a0302",
   "metadata": {},
   "outputs": [
    {
     "data": {
      "text/plain": [
       "7695541"
      ]
     },
     "execution_count": 158,
     "metadata": {},
     "output_type": "execute_result"
    }
   ],
   "source": [
    "len(nonzeroids)"
   ]
  },
  {
   "cell_type": "code",
   "execution_count": 101,
   "id": "29326816",
   "metadata": {},
   "outputs": [],
   "source": [
    "import tqdm"
   ]
  },
  {
   "cell_type": "code",
   "execution_count": 159,
   "id": "112908ad",
   "metadata": {},
   "outputs": [
    {
     "name": "stdout",
     "output_type": "stream",
     "text": [
      "filtering those too short records\n"
     ]
    },
    {
     "name": "stderr",
     "output_type": "stream",
     "text": [
      "/tmp/ipykernel_479832/2585671106.py:4: TqdmDeprecationWarning: This function will be removed in tqdm==5.0.0\n",
      "Please use `tqdm.notebook.tqdm` instead of `tqdm.tqdm_notebook`\n",
      "  for ids in tqdm.tqdm_notebook(patients[:100]):\n"
     ]
    },
    {
     "data": {
      "application/vnd.jupyter.widget-view+json": {
       "model_id": "504d79ae661541ce9198b480593e65cf",
       "version_major": 2,
       "version_minor": 0
      },
      "text/plain": [
       "  0%|          | 0/100 [00:00<?, ?it/s]"
      ]
     },
     "metadata": {},
     "output_type": "display_data"
    }
   ],
   "source": [
    "print(\"filtering those too short records\")\n",
    "validpatients=[]\n",
    "patients=df[\"ID\"].unique()\n",
    "for ids in tqdm.tqdm_notebook(patients[:100]):\n",
    "    if sum(df[\"ID\"]==ids)>10:\n",
    "        validpatients.append(ids)"
   ]
  },
  {
   "cell_type": "code",
   "execution_count": 147,
   "id": "7af5435c",
   "metadata": {},
   "outputs": [
    {
     "data": {
      "text/plain": [
       "39807"
      ]
     },
     "execution_count": 147,
     "metadata": {},
     "output_type": "execute_result"
    }
   ],
   "source": [
    "len(patients)"
   ]
  },
  {
   "cell_type": "code",
   "execution_count": 148,
   "id": "697adcb8",
   "metadata": {},
   "outputs": [
    {
     "data": {
      "text/plain": [
       "100"
      ]
     },
     "execution_count": 148,
     "metadata": {},
     "output_type": "execute_result"
    }
   ],
   "source": [
    "len(validpatients)"
   ]
  },
  {
   "cell_type": "code",
   "execution_count": 160,
   "id": "42caf46a",
   "metadata": {},
   "outputs": [],
   "source": [
    "df = df[df[\"ID\"].isin(validpatients)]"
   ]
  },
  {
   "cell_type": "code",
   "execution_count": 132,
   "id": "330bc387",
   "metadata": {},
   "outputs": [
    {
     "data": {
      "text/plain": [
       "100"
      ]
     },
     "execution_count": 132,
     "metadata": {},
     "output_type": "execute_result"
    }
   ],
   "source": [
    "len(df[\"ID\"].unique())"
   ]
  },
  {
   "cell_type": "code",
   "execution_count": null,
   "id": "8c888490",
   "metadata": {},
   "outputs": [],
   "source": []
  },
  {
   "cell_type": "code",
   "execution_count": null,
   "id": "81a4c09f",
   "metadata": {},
   "outputs": [],
   "source": []
  },
  {
   "cell_type": "code",
   "execution_count": 106,
   "id": "0434fd75",
   "metadata": {},
   "outputs": [],
   "source": [
    "#ID->visit ID\n",
    "#VISITID->FUNC_DATE "
   ]
  },
  {
   "cell_type": "code",
   "execution_count": 192,
   "id": "e33e6575",
   "metadata": {},
   "outputs": [
    {
     "name": "stdout",
     "output_type": "stream",
     "text": [
      "Building pid-admission mapping, admission-date mapping\n"
     ]
    }
   ],
   "source": [
    "print('Building pid-admission mapping, admission-date mapping')\n",
    "pidAdmMap = {}\n",
    "admDateMap = {}\n",
    "for i in range(len(df)):\n",
    "    tokens = df.iloc[i]\n",
    "    pid = tokens[8]\n",
    "    #admId = tokens[2] #this is based on user id\n",
    "    admId = int(i)\n",
    "    #admTime = datetime.strptime(str(tokens[6]),\"%Y-%m-%d\")\n",
    "    admTime = tokens[6][:7]\n",
    "    admDateMap[admId] = admTime\n",
    "    if pid in pidAdmMap:\n",
    "        pidAdmMap[pid].append(admId)\n",
    "    else:\n",
    "        pidAdmMap[pid]=[admId]"
   ]
  },
  {
   "cell_type": "code",
   "execution_count": 270,
   "id": "e8ca063a",
   "metadata": {},
   "outputs": [
    {
     "data": {
      "text/plain": [
       "41234"
      ]
     },
     "execution_count": 270,
     "metadata": {},
     "output_type": "execute_result"
    }
   ],
   "source": [
    "len(admDateMap)"
   ]
  },
  {
   "cell_type": "code",
   "execution_count": 271,
   "id": "aee4fb09",
   "metadata": {},
   "outputs": [
    {
     "name": "stdout",
     "output_type": "stream",
     "text": [
      "Building admission-dxList mapping\n"
     ]
    }
   ],
   "source": [
    "print('Building admission-dxList mapping')\n",
    "admDxMap = {}\n",
    "#admDxMap_3digit = {}\n",
    "for i in range(len(df)):\n",
    "    tokens = df.iloc[i]\n",
    "    #admId = tokens[2]\n",
    "    admId = int(i)\n",
    "    dxStr = convert_to_3digit_icd9(tokens[9])\n",
    "    dxStr2 = convert_to_3digit_icd9(tokens[10])\n",
    "    dxStr3 = convert_to_3digit_icd9(tokens[11])\n",
    "    #dxStr = 'D_' + convert_to_icd9(tokens[4][1:-1]) ############## Uncomment this line and comment the line below, if you want to use the entire ICD9 digits.\n",
    "\n",
    "    if str(dxStr2)!=\"nan\" and str(dxStr3)!=\"nan\": \n",
    "        admDxMap[admId] = [dxStr,dxStr2,dxStr3]\n",
    "    elif str(dxStr3)!=\"nan\":\n",
    "        admDxMap[admId] = [dxStr,dxStr2]\n",
    "    else:\n",
    "        admDxMap[admId] = [dxStr]\n",
    "\n",
    "#tokens[4]後面原先有一個[1:-1], 看不出作用所以被我移除了\n"
   ]
  },
  {
   "cell_type": "code",
   "execution_count": 184,
   "id": "8c4ad1aa",
   "metadata": {},
   "outputs": [
    {
     "data": {
      "text/plain": [
       "41234"
      ]
     },
     "execution_count": 184,
     "metadata": {},
     "output_type": "execute_result"
    }
   ],
   "source": [
    "len(admDxMap)"
   ]
  },
  {
   "cell_type": "code",
   "execution_count": 272,
   "id": "9bb4fc30",
   "metadata": {},
   "outputs": [
    {
     "name": "stdout",
     "output_type": "stream",
     "text": [
      "Building pid-sortedVisits mapping\n"
     ]
    }
   ],
   "source": [
    "print('Building pid-sortedVisits mapping')\n",
    "pidSeqMap = {}\n",
    "pidSeqMap_3digit = {}\n",
    "for pid, admIdList in pidAdmMap.items():\n",
    "    if len(admIdList) < 2: \n",
    "        continue\n",
    "\n",
    "    sortedList = sorted([(admDateMap[admId], admDxMap[admId]) for admId in admIdList])\n",
    "    pidSeqMap[pid] = sortedList\n",
    "\n",
    "    #sortedList_3digit = sorted([(admDateMap[admId], admDxMap_3digit[admId]) for admId in admIdList])\n",
    "    #pidSeqMap_3digit[pid] = sortedList_3digit\n",
    "#visit to disease"
   ]
  },
  {
   "cell_type": "code",
   "execution_count": 273,
   "id": "5e21b22c",
   "metadata": {},
   "outputs": [
    {
     "name": "stdout",
     "output_type": "stream",
     "text": [
      "Buliding new pid-seq-map\n"
     ]
    }
   ],
   "source": [
    "print(\"Buliding new pid-seq-map\")\n",
    "new_pidSeqMap={}\n",
    "for pid in pidSeqMap.keys():\n",
    "    new_pidSeqMap[pid]=pd.DataFrame(pidSeqMap[pid]).groupby(0).sum().reset_index().values"
   ]
  },
  {
   "cell_type": "code",
   "execution_count": null,
   "id": "85918e7a",
   "metadata": {},
   "outputs": [],
   "source": []
  },
  {
   "cell_type": "code",
   "execution_count": 174,
   "id": "d4038ae6",
   "metadata": {},
   "outputs": [
    {
     "name": "stdout",
     "output_type": "stream",
     "text": [
      "Building pid-sortedVisits mapping\n"
     ]
    }
   ],
   "source": [
    "print('Building pid-sortedVisits mapping')\n",
    "pidSeqMap = {}\n",
    "for pid, admIdList in pidAdmMap.items():\n",
    "    sortedList = sorted([(admDateMap[admId], admDxMap[admId]) for admId in admIdList])\n",
    "    pidSeqMap[pid] = sortedList\n",
    "\n",
    "#visit to disease"
   ]
  },
  {
   "cell_type": "code",
   "execution_count": 274,
   "id": "15f69e50",
   "metadata": {},
   "outputs": [
    {
     "name": "stdout",
     "output_type": "stream",
     "text": [
      "Building pids, dates, strSeqs\n"
     ]
    }
   ],
   "source": [
    "print('Building pids, dates, strSeqs')\n",
    "pids = []\n",
    "dates = []\n",
    "seqs = []\n",
    "for pid, visits in new_pidSeqMap.items():\n",
    "    pids.append(pid)\n",
    "    seq = []\n",
    "    date = []\n",
    "    for visit in visits:\n",
    "        date.append(visit[0])\n",
    "        seq.append(visit[1])\n",
    "    dates.append(date)\n",
    "    seqs.append(seq)"
   ]
  },
  {
   "cell_type": "code",
   "execution_count": 275,
   "id": "e89cd860",
   "metadata": {},
   "outputs": [
    {
     "name": "stdout",
     "output_type": "stream",
     "text": [
      "Converting strSeqs to intSeqs, and making types\n"
     ]
    }
   ],
   "source": [
    "print('Converting strSeqs to intSeqs, and making types')\n",
    "types = {}\n",
    "newSeqs = []\n",
    "for patient in seqs:\n",
    "    newPatient = []\n",
    "    for visit in patient:\n",
    "        newVisit = []\n",
    "        for code in visit:\n",
    "            if code in types:\n",
    "                newVisit.append(types[code])\n",
    "            else:\n",
    "                types[code] = len(types)\n",
    "                newVisit.append(types[code])\n",
    "        newPatient.append(newVisit)\n",
    "    newSeqs.append(newPatient)"
   ]
  },
  {
   "cell_type": "code",
   "execution_count": 276,
   "id": "90977c37",
   "metadata": {},
   "outputs": [
    {
     "name": "stdout",
     "output_type": "stream",
     "text": [
      "Re-formatting to Med2Vec dataset\n"
     ]
    }
   ],
   "source": [
    "print('Re-formatting to Med2Vec dataset')\n",
    "seqs = []\n",
    "for patient in newSeqs:\n",
    "    seqs.extend(patient)\n",
    "    seqs.append([-1])\n",
    "seqs = seqs[:-1]"
   ]
  },
  {
   "cell_type": "code",
   "execution_count": 282,
   "id": "e411ab17",
   "metadata": {},
   "outputs": [],
   "source": [
    "outFile=\"./mimic_demo/ourR301_100_new\""
   ]
  },
  {
   "cell_type": "code",
   "execution_count": 283,
   "id": "02f23619",
   "metadata": {},
   "outputs": [],
   "source": [
    "pickle.dump(seqs, open(outFile+'.seqs', 'wb'), -1)\n",
    "pickle.dump(types, open(outFile+'.types', 'wb'), -1)\n",
    "#pickle.dump(seqs_3digit, open(outFile+'.3digitICD9.seqs', 'wb'), -1)\n",
    "#pickle.dump(types_3digit, open(outFile+'.3digitICD9.types', 'wb'), -1)"
   ]
  },
  {
   "cell_type": "code",
   "execution_count": 284,
   "id": "281dd8be",
   "metadata": {},
   "outputs": [
    {
     "data": {
      "text/plain": [
       "562"
      ]
     },
     "execution_count": 284,
     "metadata": {},
     "output_type": "execute_result"
    }
   ],
   "source": [
    "len(types)"
   ]
  },
  {
   "cell_type": "code",
   "execution_count": null,
   "id": "ecd7a1ad",
   "metadata": {},
   "outputs": [],
   "source": []
  }
 ],
 "metadata": {
  "kernelspec": {
   "display_name": "Python 3 (ipykernel)",
   "language": "python",
   "name": "python3"
  },
  "language_info": {
   "codemirror_mode": {
    "name": "ipython",
    "version": 3
   },
   "file_extension": ".py",
   "mimetype": "text/x-python",
   "name": "python",
   "nbconvert_exporter": "python",
   "pygments_lexer": "ipython3",
   "version": "3.8.12"
  }
 },
 "nbformat": 4,
 "nbformat_minor": 5
}
