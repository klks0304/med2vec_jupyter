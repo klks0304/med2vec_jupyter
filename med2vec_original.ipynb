{
 "cells": [
  {
   "cell_type": "code",
   "execution_count": 1,
   "id": "6eeb774e",
   "metadata": {},
   "outputs": [],
   "source": [
    "import sys\n",
    "#import cPickle as pickle\n",
    "import pickle\n",
    "from datetime import datetime"
   ]
  },
  {
   "cell_type": "code",
   "execution_count": 2,
   "id": "9b5ddaf7",
   "metadata": {},
   "outputs": [],
   "source": [
    "def convert_to_icd9(dxStr):\n",
    "\tif dxStr.startswith('E'):\n",
    "\t\tif len(dxStr) > 4: return dxStr[:4] + '.' + dxStr[4:]\n",
    "\t\telse: return dxStr\n",
    "\telse:\n",
    "\t\tif len(dxStr) > 3: return dxStr[:3] + '.' + dxStr[3:]\n",
    "\t\telse: return dxStr"
   ]
  },
  {
   "cell_type": "code",
   "execution_count": 3,
   "id": "374627d8",
   "metadata": {},
   "outputs": [],
   "source": [
    "def convert_to_3digit_icd9(dxStr):\n",
    "\tif dxStr.startswith('E'):\n",
    "\t\tif len(dxStr) > 4: return dxStr[:4]\n",
    "\t\telse: return dxStr\n",
    "\telse:\n",
    "\t\tif len(dxStr) > 3: return dxStr[:3]\n",
    "\t\telse: return dxStr\n"
   ]
  },
  {
   "cell_type": "markdown",
   "id": "4a9359fe",
   "metadata": {},
   "source": [
    "# preprocess main"
   ]
  },
  {
   "cell_type": "code",
   "execution_count": 40,
   "id": "e5ab68da",
   "metadata": {},
   "outputs": [],
   "source": [
    "admissionFile = \"./mimic_demo/data/ADMISSIONS.csv\"\n",
    "diagnosisFile = \"./mimic_demo/data/DIAGNOSES_ICD.csv\"\n",
    "outFile = \"./mimic_demo/outdemo\""
   ]
  },
  {
   "cell_type": "code",
   "execution_count": 41,
   "id": "daacdd4e",
   "metadata": {},
   "outputs": [
    {
     "name": "stdout",
     "output_type": "stream",
     "text": [
      "Building pid-admission mapping, admission-date mapping\n"
     ]
    }
   ],
   "source": [
    "print('Building pid-admission mapping, admission-date mapping')\n",
    "pidAdmMap = {}\n",
    "admDateMap = {}\n",
    "infd = open(admissionFile, 'r')\n",
    "infd.readline()\n",
    "for line in infd:\n",
    "    tokens = line.strip().split(',')\n",
    "    pid = int(tokens[1])\n",
    "    admId = int(tokens[2])\n",
    "    admTime = datetime.strptime(tokens[3], '%Y-%m-%d %H:%M:%S')\n",
    "    admDateMap[admId] = admTime\n",
    "    if pid in pidAdmMap: pidAdmMap[pid].append(admId)\n",
    "    else: pidAdmMap[pid] = [admId]\n",
    "infd.close()\n",
    "#pidAdmMap把病人的ID 和 他到院紀錄 做成dic\n",
    "#admDateMap把每個到院記錄存成時間"
   ]
  },
  {
   "cell_type": "code",
   "execution_count": 42,
   "id": "c2051ff5",
   "metadata": {},
   "outputs": [
    {
     "name": "stdout",
     "output_type": "stream",
     "text": [
      "Building admission-dxList mapping\n"
     ]
    }
   ],
   "source": [
    "print('Building admission-dxList mapping')\n",
    "admDxMap = {}\n",
    "admDxMap_3digit = {}\n",
    "infd = open(diagnosisFile, 'r')\n",
    "infd.readline()\n",
    "for line in infd:\n",
    "    tokens = line.strip().split(',')\n",
    "    admId = int(tokens[2])\n",
    "    dxStr = 'D_' + convert_to_icd9(tokens[4][1:-1]) ############## Uncomment this line and comment the line below, if you want to use the entire ICD9 digits.\n",
    "    dxStr_3digit = convert_to_3digit_icd9(tokens[4])\n",
    "\n",
    "    if admId in admDxMap: \n",
    "        admDxMap[admId].append(dxStr)\n",
    "    else: \n",
    "        admDxMap[admId] = [dxStr]\n",
    "\n",
    "    if admId in admDxMap_3digit: \n",
    "        admDxMap_3digit[admId].append(dxStr_3digit)\n",
    "    else: \n",
    "        admDxMap_3digit[admId] = [dxStr_3digit]\n",
    "infd.close()\n",
    "\n",
    "#tokens[4]後面原先有一個[1:-1], 看不出作用所以被我移除了\n"
   ]
  },
  {
   "cell_type": "code",
   "execution_count": 43,
   "id": "4785d0c0",
   "metadata": {},
   "outputs": [
    {
     "name": "stdout",
     "output_type": "stream",
     "text": [
      "Building pid-sortedVisits mapping\n"
     ]
    }
   ],
   "source": [
    "print('Building pid-sortedVisits mapping')\n",
    "pidSeqMap = {}\n",
    "pidSeqMap_3digit = {}\n",
    "for pid, admIdList in pidAdmMap.items():\n",
    "    if len(admIdList) < 2: \n",
    "        continue\n",
    "\n",
    "    sortedList = sorted([(admDateMap[admId], admDxMap[admId]) for admId in admIdList])\n",
    "    pidSeqMap[pid] = sortedList\n",
    "\n",
    "    sortedList_3digit = sorted([(admDateMap[admId], admDxMap_3digit[admId]) for admId in admIdList])\n",
    "    pidSeqMap_3digit[pid] = sortedList_3digit\n",
    "#visit to disease"
   ]
  },
  {
   "cell_type": "code",
   "execution_count": 45,
   "id": "25ccb9ad",
   "metadata": {},
   "outputs": [
    {
     "name": "stdout",
     "output_type": "stream",
     "text": [
      "Building pids, dates, strSeqs\n"
     ]
    }
   ],
   "source": [
    "print('Building pids, dates, strSeqs')\n",
    "pids = []\n",
    "dates = []\n",
    "seqs = []\n",
    "for pid, visits in pidSeqMap.items():\n",
    "    pids.append(pid)\n",
    "    seq = []\n",
    "    date = []\n",
    "    for visit in visits:\n",
    "        date.append(visit[0])\n",
    "        seq.append(visit[1])\n",
    "    dates.append(date)\n",
    "    seqs.append(seq)"
   ]
  },
  {
   "cell_type": "code",
   "execution_count": 46,
   "id": "ad1c1ed4",
   "metadata": {},
   "outputs": [
    {
     "name": "stdout",
     "output_type": "stream",
     "text": [
      "Building pids, dates, strSeqs for 3digit ICD9 code\n"
     ]
    }
   ],
   "source": [
    "print('Building pids, dates, strSeqs for 3digit ICD9 code')\n",
    "seqs_3digit = []\n",
    "for pid, visits in pidSeqMap_3digit.items():\n",
    "    seq = []\n",
    "    for visit in visits:\n",
    "        seq.append(visit[1])\n",
    "    seqs_3digit.append(seq)"
   ]
  },
  {
   "cell_type": "code",
   "execution_count": 47,
   "id": "cfe17b50",
   "metadata": {},
   "outputs": [
    {
     "name": "stdout",
     "output_type": "stream",
     "text": [
      "Converting strSeqs to intSeqs, and making types\n"
     ]
    }
   ],
   "source": [
    "print('Converting strSeqs to intSeqs, and making types')\n",
    "types = {}\n",
    "newSeqs = []\n",
    "for patient in seqs:\n",
    "    newPatient = []\n",
    "    for visit in patient:\n",
    "        newVisit = []\n",
    "        for code in visit:\n",
    "            if code in types:\n",
    "                newVisit.append(types[code])\n",
    "            else:\n",
    "                types[code] = len(types)\n",
    "                newVisit.append(types[code])\n",
    "        newPatient.append(newVisit)\n",
    "    newSeqs.append(newPatient)"
   ]
  },
  {
   "cell_type": "code",
   "execution_count": null,
   "id": "3e748af4",
   "metadata": {},
   "outputs": [],
   "source": []
  },
  {
   "cell_type": "code",
   "execution_count": 49,
   "id": "d7b7ef7e",
   "metadata": {},
   "outputs": [
    {
     "name": "stdout",
     "output_type": "stream",
     "text": [
      "Converting strSeqs to intSeqs, and making types for 3digit ICD9 code\n"
     ]
    }
   ],
   "source": [
    "print('Converting strSeqs to intSeqs, and making types for 3digit ICD9 code')\n",
    "types_3digit = {}\n",
    "newSeqs_3digit = []\n",
    "for patient in seqs_3digit:\n",
    "    newPatient = []\n",
    "    for visit in patient:\n",
    "        newVisit = []\n",
    "        for code in set(visit):\n",
    "            if code in types_3digit:\n",
    "                newVisit.append(types_3digit[code])\n",
    "            else:\n",
    "                types_3digit[code] = len(types_3digit)\n",
    "                newVisit.append(types_3digit[code])\n",
    "        newPatient.append(newVisit)\n",
    "    newSeqs_3digit.append(newPatient)"
   ]
  },
  {
   "cell_type": "code",
   "execution_count": 50,
   "id": "eab03cc8",
   "metadata": {},
   "outputs": [
    {
     "name": "stdout",
     "output_type": "stream",
     "text": [
      "Re-formatting to Med2Vec dataset\n"
     ]
    }
   ],
   "source": [
    "print('Re-formatting to Med2Vec dataset')\n",
    "seqs = []\n",
    "for patient in newSeqs:\n",
    "    seqs.extend(patient)\n",
    "    seqs.append([-1])\n",
    "seqs = seqs[:-1]\n",
    "\n",
    "seqs_3digit = []\n",
    "for patient in newSeqs_3digit:\n",
    "    seqs_3digit.extend(patient)\n",
    "    seqs_3digit.append([-1])\n",
    "seqs_3digit = seqs_3digit[:-1]\n",
    "\n"
   ]
  },
  {
   "cell_type": "code",
   "execution_count": 51,
   "id": "eefb0586",
   "metadata": {},
   "outputs": [],
   "source": [
    "pickle.dump(seqs, open(outFile+'.seqs', 'wb'), -1)\n",
    "pickle.dump(types, open(outFile+'.types', 'wb'), -1)\n",
    "pickle.dump(seqs_3digit, open(outFile+'.3digitICD9.seqs', 'wb'), -1)\n",
    "pickle.dump(types_3digit, open(outFile+'.3digitICD9.types', 'wb'), -1)"
   ]
  },
  {
   "cell_type": "code",
   "execution_count": 52,
   "id": "31c5fbe1",
   "metadata": {},
   "outputs": [
    {
     "data": {
      "text/plain": [
       "[[0, 1, 2, 3, 4, 5, 6, 7, 8],\n",
       " [9, 0, 10, 1, 11, 3, 2, 4, 5, 7, 12, 13, 14],\n",
       " [-1],\n",
       " [15, 16, 17, 10, 11, 18, 19, 20, 21, 22, 23, 24, 25, 8, 12, 14],\n",
       " [10,\n",
       "  2,\n",
       "  26,\n",
       "  27,\n",
       "  25,\n",
       "  28,\n",
       "  29,\n",
       "  30,\n",
       "  31,\n",
       "  32,\n",
       "  33,\n",
       "  23,\n",
       "  34,\n",
       "  8,\n",
       "  16,\n",
       "  35,\n",
       "  36,\n",
       "  17,\n",
       "  20,\n",
       "  37,\n",
       "  21],\n",
       " [15, 17, 38, 27, 11, 18, 35, 21, 33, 22, 23, 24, 34, 39, 12, 14],\n",
       " [-1],\n",
       " [16, 40, 41, 2, 42, 43, 44, 45, 23, 46, 47, 48],\n",
       " [29, 16, 40, 49, 11, 45, 23, 14],\n",
       " [-1],\n",
       " [50, 16, 51, 6, 52],\n",
       " [50, 16, 9, 10, 51, 41, 53, 54, 55],\n",
       " [-1],\n",
       " [50, 16, 10, 2, 26, 56, 57, 8, 58, 59],\n",
       " [60, 61, 26, 8, 62],\n",
       " [-1],\n",
       " [9, 40, 26, 2, 18, 63, 22, 64, 23, 45, 65, 66, 67, 68, 69],\n",
       " [16, 70, 10, 2, 26, 41, 43, 18, 11, 71, 45, 14, 23, 21, 72, 73, 74, 68],\n",
       " [-1],\n",
       " [16, 41, 75, 2, 22, 76, 8],\n",
       " [10, 41, 75, 2, 76, 22, 77],\n",
       " [-1],\n",
       " [10,\n",
       "  78,\n",
       "  2,\n",
       "  79,\n",
       "  80,\n",
       "  81,\n",
       "  82,\n",
       "  83,\n",
       "  84,\n",
       "  42,\n",
       "  85,\n",
       "  86,\n",
       "  46,\n",
       "  87,\n",
       "  88,\n",
       "  89,\n",
       "  16,\n",
       "  90,\n",
       "  91,\n",
       "  92,\n",
       "  93,\n",
       "  94,\n",
       "  95,\n",
       "  43,\n",
       "  96,\n",
       "  73,\n",
       "  12,\n",
       "  97,\n",
       "  98,\n",
       "  69],\n",
       " [30, 99, 10, 26, 42, 43, 21, 100, 101, 46, 73, 92, 87, 102, 83],\n",
       " [-1],\n",
       " [50,\n",
       "  103,\n",
       "  10,\n",
       "  104,\n",
       "  105,\n",
       "  41,\n",
       "  85,\n",
       "  23,\n",
       "  8,\n",
       "  74,\n",
       "  16,\n",
       "  45,\n",
       "  91,\n",
       "  106,\n",
       "  17,\n",
       "  107,\n",
       "  71,\n",
       "  57,\n",
       "  108],\n",
       " [16, 103, 10, 26, 71, 43, 45, 109, 23, 104, 72, 105, 6, 57, 108, 74],\n",
       " [-1],\n",
       " [29, 40, 110, 10, 2, 11, 43, 45, 22, 8, 14],\n",
       " [40, 2, 11, 45, 8, 12, 97, 14],\n",
       " [110, 40, 10, 2, 49, 11, 43, 45, 111, 8, 65, 97, 14, 112],\n",
       " [29, 16, 110, 10, 0, 2, 40, 26, 19, 31, 45, 8, 97],\n",
       " [40, 31, 41, 26, 53, 43, 20, 18, 45, 22, 39, 97],\n",
       " [16, 2, 11, 26, 18, 113, 12, 14],\n",
       " [29, 26, 11, 18, 43, 20, 114, 21, 22, 45, 115, 54, 57, 92, 8, 39, 97, 14],\n",
       " [16, 40, 26, 11, 18, 43, 45, 22, 54, 57, 8, 39, 97, 14, 112],\n",
       " [110,\n",
       "  2,\n",
       "  26,\n",
       "  25,\n",
       "  31,\n",
       "  8,\n",
       "  16,\n",
       "  40,\n",
       "  18,\n",
       "  45,\n",
       "  14,\n",
       "  11,\n",
       "  43,\n",
       "  21,\n",
       "  22,\n",
       "  96,\n",
       "  57,\n",
       "  39,\n",
       "  12,\n",
       "  97],\n",
       " [110, 2, 26, 25, 31, 8, 112, 16, 40, 18, 45, 14, 11, 43, 22, 57, 39, 12, 97],\n",
       " [2,\n",
       "  26,\n",
       "  25,\n",
       "  31,\n",
       "  41,\n",
       "  8,\n",
       "  112,\n",
       "  16,\n",
       "  40,\n",
       "  18,\n",
       "  45,\n",
       "  14,\n",
       "  11,\n",
       "  43,\n",
       "  21,\n",
       "  22,\n",
       "  57,\n",
       "  39,\n",
       "  12,\n",
       "  97],\n",
       " [16, 40, 2, 11, 18, 43, 26, 45, 25, 57, 39, 8, 12, 97, 14, 112],\n",
       " [40, 31, 26, 18, 116, 117, 114, 45, 115, 24, 25, 57, 8, 97, 118, 112],\n",
       " [26,\n",
       "  25,\n",
       "  29,\n",
       "  31,\n",
       "  116,\n",
       "  119,\n",
       "  8,\n",
       "  112,\n",
       "  16,\n",
       "  40,\n",
       "  18,\n",
       "  45,\n",
       "  24,\n",
       "  14,\n",
       "  11,\n",
       "  43,\n",
       "  120,\n",
       "  121,\n",
       "  57,\n",
       "  39],\n",
       " [2,\n",
       "  26,\n",
       "  25,\n",
       "  83,\n",
       "  29,\n",
       "  31,\n",
       "  116,\n",
       "  117,\n",
       "  115,\n",
       "  122,\n",
       "  8,\n",
       "  112,\n",
       "  16,\n",
       "  40,\n",
       "  18,\n",
       "  45,\n",
       "  24,\n",
       "  92,\n",
       "  123,\n",
       "  93,\n",
       "  14,\n",
       "  17,\n",
       "  11,\n",
       "  43,\n",
       "  21,\n",
       "  124,\n",
       "  121,\n",
       "  125,\n",
       "  57,\n",
       "  39,\n",
       "  97],\n",
       " [-1],\n",
       " [126, 16, 2, 1, 117, 4, 7, 127, 128],\n",
       " [126,\n",
       "  10,\n",
       "  2,\n",
       "  3,\n",
       "  129,\n",
       "  9,\n",
       "  41,\n",
       "  1,\n",
       "  53,\n",
       "  4,\n",
       "  16,\n",
       "  130,\n",
       "  18,\n",
       "  127,\n",
       "  13,\n",
       "  131,\n",
       "  14,\n",
       "  11,\n",
       "  19,\n",
       "  132,\n",
       "  121,\n",
       "  12],\n",
       " [-1],\n",
       " [10,\n",
       "  26,\n",
       "  133,\n",
       "  134,\n",
       "  31,\n",
       "  41,\n",
       "  135,\n",
       "  23,\n",
       "  136,\n",
       "  8,\n",
       "  16,\n",
       "  38,\n",
       "  18,\n",
       "  45,\n",
       "  24,\n",
       "  48,\n",
       "  137,\n",
       "  17,\n",
       "  20,\n",
       "  73,\n",
       "  57],\n",
       " [17,\n",
       "  38,\n",
       "  31,\n",
       "  41,\n",
       "  135,\n",
       "  26,\n",
       "  130,\n",
       "  85,\n",
       "  45,\n",
       "  138,\n",
       "  24,\n",
       "  136,\n",
       "  139,\n",
       "  57,\n",
       "  48,\n",
       "  140,\n",
       "  8,\n",
       "  133],\n",
       " [-1],\n",
       " [141, 16, 68, 9, 31, 41, 62, 71, 19, 142, 143, 144, 145, 55, 146, 89],\n",
       " [141, 9, 110, 16, 89, 0, 31, 21, 37, 142, 143, 73, 57, 55, 145, 68],\n",
       " [-1],\n",
       " [8, 10, 31, 147],\n",
       " [148, 38, 149, 22, 8],\n",
       " [149, 38, 148, 22, 8]]"
      ]
     },
     "execution_count": 52,
     "metadata": {},
     "output_type": "execute_result"
    }
   ],
   "source": [
    "#這邊輸出檔案其實沒問題，但不能用jupyter 讀取 會變成亂碼(就這樣)\n",
    "pickle.load(open('./mimic_demo/outdemo.3digitICD9.seqs', 'rb'))"
   ]
  },
  {
   "cell_type": "code",
   "execution_count": 53,
   "id": "eb8d141d",
   "metadata": {},
   "outputs": [
    {
     "data": {
      "text/plain": [
       "163"
      ]
     },
     "execution_count": 53,
     "metadata": {},
     "output_type": "execute_result"
    }
   ],
   "source": [
    "len(types)"
   ]
  },
  {
   "cell_type": "markdown",
   "id": "f71aeb71",
   "metadata": {},
   "source": [
    "# med2vec main"
   ]
  },
  {
   "cell_type": "code",
   "execution_count": 54,
   "id": "23be9dd4",
   "metadata": {},
   "outputs": [
    {
     "name": "stderr",
     "output_type": "stream",
     "text": [
      "WARNING (theano.tensor.blas): Using NumPy C-API based implementation for BLAS functions.\n"
     ]
    }
   ],
   "source": [
    "import sys, random\n",
    "import numpy as np\n",
    "import pickle\n",
    "from collections import OrderedDict\n",
    "import argparse\n",
    "\n",
    "import theano\n",
    "import theano.tensor as T\n",
    "from theano import config"
   ]
  },
  {
   "cell_type": "code",
   "execution_count": 55,
   "id": "1e3aab82",
   "metadata": {},
   "outputs": [],
   "source": [
    "def numpy_floatX(data):\n",
    "\treturn np.asarray(data, dtype=config.floatX)\n",
    "\n",
    "def unzip(zipped):\n",
    "\tnew_params = OrderedDict()\n",
    "\tfor k, v in zipped.items():\n",
    "\t\tnew_params[k] = v.get_value()\n",
    "\treturn new_params\n"
   ]
  },
  {
   "cell_type": "code",
   "execution_count": 56,
   "id": "5082ace4",
   "metadata": {},
   "outputs": [],
   "source": [
    "def init_params(options):\n",
    "\tparams = OrderedDict()\n",
    "\n",
    "\tnumXcodes = options['numXcodes']\n",
    "\tnumYcodes = options['numYcodes']\n",
    "\tembDimSize= options['embDimSize']\n",
    "\tdemoSize = options['demoSize']\n",
    "\thiddenDimSize = options['hiddenDimSize']\n",
    "\n",
    "\tparams['W_emb'] = np.random.uniform(-0.01, 0.01, (numXcodes, embDimSize)).astype(config.floatX) #emb matrix needs an extra dimension for the time\n",
    "\tparams['b_emb'] = np.zeros(embDimSize).astype(config.floatX)\n",
    "\tparams['W_hidden'] = np.random.uniform(-0.01, 0.01, (embDimSize+demoSize, hiddenDimSize)).astype(config.floatX) #emb matrix needs an extra dimension for the time\n",
    "\tparams['b_hidden'] = np.zeros(hiddenDimSize).astype(config.floatX)\n",
    "\tif numYcodes > 0:\n",
    "\t\tparams['W_output'] = np.random.uniform(-0.01, 0.01, (hiddenDimSize, numYcodes)).astype(config.floatX) #emb matrix needs an extra dimension for the time\n",
    "\t\tparams['b_output'] = np.zeros(numYcodes).astype(config.floatX)\n",
    "\telse:\n",
    "\t\tparams['W_output'] = np.random.uniform(-0.01, 0.01, (hiddenDimSize, numXcodes)).astype(config.floatX) #emb matrix needs an extra dimension for the time\n",
    "\t\tparams['b_output'] = np.zeros(numXcodes).astype(config.floatX)\n",
    "\n",
    "\treturn params"
   ]
  },
  {
   "cell_type": "code",
   "execution_count": 57,
   "id": "bdd8e65d",
   "metadata": {},
   "outputs": [],
   "source": [
    "def load_params(options):\n",
    "\tparams = np.load(options['modelFile'])\n",
    "\treturn params\n",
    "\n",
    "def init_tparams(params):\n",
    "\ttparams = OrderedDict()\n",
    "\tfor k, v in params.items():\n",
    "\t\ttparams[k] = theano.shared(v, name=k)\n",
    "\treturn tparams"
   ]
  },
  {
   "cell_type": "code",
   "execution_count": 58,
   "id": "c38049d7",
   "metadata": {},
   "outputs": [],
   "source": [
    "def build_model(tparams, options):\n",
    "\tx = T.matrix('x', dtype=config.floatX)\n",
    "\td = T.matrix('d', dtype=config.floatX)\n",
    "\ty = T.matrix('y', dtype=config.floatX)\n",
    "\tmask = T.vector('mask', dtype=config.floatX)\n",
    "\n",
    "\tlogEps = options['logEps']\n",
    "\n",
    "\temb = T.maximum(T.dot(x, tparams['W_emb']) + tparams['b_emb'],0)\n",
    "\tif options['demoSize'] > 0: emb = T.concatenate((emb, d), axis=1)\n",
    "\tvisit = T.maximum(T.dot(emb, tparams['W_hidden']) + tparams['b_hidden'],0)\n",
    "\tresults = T.nnet.softmax(T.dot(visit, tparams['W_output']) + tparams['b_output'])\n",
    "\t\n",
    "\tmask1 = (mask[:-1] * mask[1:])[:,None]\n",
    "\tmask2 = (mask[:-2] * mask[1:-1] * mask[2:])[:,None]\n",
    "\tmask3 = (mask[:-3] * mask[1:-2] * mask[2:-1] * mask[3:])[:,None]\n",
    "\tmask4 = (mask[:-4] * mask[1:-3] * mask[2:-2] * mask[3:-1] * mask[4:])[:,None]\n",
    "\tmask5 = (mask[:-5] * mask[1:-4] * mask[2:-3] * mask[3:-2] * mask[4:-1] * mask[5:])[:,None]\n",
    "\n",
    "\tt = None\n",
    "\tif options['numYcodes'] > 0: t = y\n",
    "\telse: t = x\n",
    "\n",
    "\tforward_results =  results[:-1] * mask1\n",
    "\tforward_cross_entropy = -(t[1:] * T.log(forward_results + logEps) + (1. - t[1:]) * T.log(1. - forward_results + logEps))\n",
    "\n",
    "\tforward_results2 =  results[:-2] * mask2\n",
    "\tforward_cross_entropy2 = -(t[2:] * T.log(forward_results2 + logEps) + (1. - t[2:]) * T.log(1. - forward_results2 + logEps))\n",
    "\n",
    "\tforward_results3 =  results[:-3] * mask3\n",
    "\tforward_cross_entropy3 = -(t[3:] * T.log(forward_results3 + logEps) + (1. - t[3:]) * T.log(1. - forward_results3 + logEps))\n",
    "\n",
    "\tforward_results4 =  results[:-4] * mask4\n",
    "\tforward_cross_entropy4 = -(t[4:] * T.log(forward_results4 + logEps) + (1. - t[4:]) * T.log(1. - forward_results4 + logEps))\n",
    "\n",
    "\tforward_results5 =  results[:-5] * mask5\n",
    "\tforward_cross_entropy5 = -(t[5:] * T.log(forward_results5 + logEps) + (1. - t[5:]) * T.log(1. - forward_results5 + logEps))\n",
    "\n",
    "\tbackward_results =  results[1:] * mask1\n",
    "\tbackward_cross_entropy = -(t[:-1] * T.log(backward_results + logEps) + (1. - t[:-1]) * T.log(1. - backward_results + logEps))\n",
    "\n",
    "\tbackward_results2 =  results[2:] * mask2\n",
    "\tbackward_cross_entropy2 = -(t[:-2] * T.log(backward_results2 + logEps) + (1. - t[:-2]) * T.log(1. - backward_results2 + logEps))\n",
    "\n",
    "\tbackward_results3 =  results[3:] * mask3\n",
    "\tbackward_cross_entropy3 = -(t[:-3] * T.log(backward_results3 + logEps) + (1. - t[:-3]) * T.log(1. - backward_results3 + logEps))\n",
    "\n",
    "\tbackward_results4 =  results[4:] * mask4\n",
    "\tbackward_cross_entropy4 = -(t[:-4] * T.log(backward_results4 + logEps) + (1. - t[:-4]) * T.log(1. - backward_results4 + logEps))\n",
    "\n",
    "\tbackward_results5 =  results[5:] * mask5\n",
    "\tbackward_cross_entropy5 = -(t[:-5] * T.log(backward_results5 + logEps) + (1. - t[:-5]) * T.log(1. - backward_results5 + logEps))\n",
    "\n",
    "\tvisit_cost1 = (forward_cross_entropy.sum(axis=1).sum(axis=0) + backward_cross_entropy.sum(axis=1).sum(axis=0)) / (mask1.sum() + logEps)\n",
    "\tvisit_cost2 = (forward_cross_entropy2.sum(axis=1).sum(axis=0) + backward_cross_entropy2.sum(axis=1).sum(axis=0)) / (mask2.sum() + logEps)\n",
    "\tvisit_cost3 = (forward_cross_entropy3.sum(axis=1).sum(axis=0) + backward_cross_entropy3.sum(axis=1).sum(axis=0)) / (mask3.sum() + logEps)\n",
    "\tvisit_cost4 = (forward_cross_entropy4.sum(axis=1).sum(axis=0) + backward_cross_entropy4.sum(axis=1).sum(axis=0)) / (mask4.sum() + logEps)\n",
    "\tvisit_cost5 = (forward_cross_entropy5.sum(axis=1).sum(axis=0) + backward_cross_entropy5.sum(axis=1).sum(axis=0)) / (mask5.sum() + logEps)\n",
    "\n",
    "\twindowSize = options['windowSize']\n",
    "\tvisit_cost = visit_cost1\n",
    "\tif windowSize == 2:\n",
    "\t\tvisit_cost = visit_cost1 + visit_cost2\n",
    "\telif windowSize == 3:\n",
    "\t\tvisit_cost = visit_cost1 + visit_cost2 + visit_cost3\n",
    "\telif windowSize == 4:\n",
    "\t\tvisit_cost = visit_cost1 + visit_cost2 + visit_cost3 + visit_cost4\n",
    "\telif windowSize == 5:\n",
    "\t\tvisit_cost = visit_cost1 + visit_cost2 + visit_cost3 + visit_cost4 + visit_cost5\n",
    "\n",
    "\tiVector = T.vector('iVector', dtype='int32')\n",
    "\tjVector = T.vector('jVector', dtype='int32')\n",
    "\tpreVec = T.maximum(tparams['W_emb'],0)\n",
    "\tnorms = (T.exp(T.dot(preVec, preVec.T))).sum(axis=1)\n",
    "\temb_cost = -T.log((T.exp((preVec[iVector] * preVec[jVector]).sum(axis=1)) / norms[iVector]) + logEps)\n",
    "\n",
    "\ttotal_cost = visit_cost + T.mean(emb_cost) + options['L2_reg'] * (tparams['W_emb'] ** 2).sum()\n",
    "\n",
    "\tif options['demoSize'] > 0 and options['numYcodes'] > 0: return x, d, y, mask, iVector, jVector, total_cost\n",
    "\telif options['demoSize'] == 0 and options['numYcodes'] > 0: return x, y, mask, iVector, jVector, total_cost\n",
    "\telif options['demoSize'] > 0 and options['numYcodes'] == 0: return x, d, mask, iVector, jVector, total_cost\n",
    "\telse: return x, mask, iVector, jVector, total_cost"
   ]
  },
  {
   "cell_type": "code",
   "execution_count": 59,
   "id": "8909173b",
   "metadata": {},
   "outputs": [],
   "source": [
    "def adadelta(tparams, grads, x, mask, iVector, jVector, cost, options, d=None, y=None):\n",
    "\tzipped_grads = [theano.shared(p.get_value() * numpy_floatX(0.), name='%s_grad' % k) for k, p in tparams.items()]\n",
    "\trunning_up2 = [theano.shared(p.get_value() * numpy_floatX(0.), name='%s_rup2' % k) for k, p in tparams.items()]\n",
    "\trunning_grads2 = [theano.shared(p.get_value() * numpy_floatX(0.), name='%s_rgrad2' % k) for k, p in tparams.items()]\n",
    "\n",
    "\tzgup = [(zg, g) for zg, g in zip(zipped_grads, grads)]\n",
    "\trg2up = [(rg2, 0.95 * rg2 + 0.05 * (g ** 2)) for rg2, g in zip(running_grads2, grads)]\n",
    "\n",
    "\tif options['demoSize'] > 0 and options['numYcodes'] > 0:\n",
    "\t\tf_grad_shared = theano.function([x, d, y, mask, iVector, jVector], cost, updates=zgup + rg2up, name='adadelta_f_grad_shared')\n",
    "\telif options['demoSize'] == 0 and options['numYcodes'] > 0:\n",
    "\t\tf_grad_shared = theano.function([x, y, mask, iVector, jVector], cost, updates=zgup + rg2up, name='adadelta_f_grad_shared')\n",
    "\telif options['demoSize'] > 0 and options['numYcodes'] == 0:\n",
    "\t\tf_grad_shared = theano.function([x, d, mask, iVector, jVector], cost, updates=zgup + rg2up, name='adadelta_f_grad_shared')\n",
    "\telse:\n",
    "\t\tf_grad_shared = theano.function([x, mask, iVector, jVector], cost, updates=zgup + rg2up, name='adadelta_f_grad_shared')\n",
    "\n",
    "\tupdir = [-T.sqrt(ru2 + 1e-6) / T.sqrt(rg2 + 1e-6) * zg for zg, ru2, rg2 in zip(zipped_grads, running_up2, running_grads2)]\n",
    "\tru2up = [(ru2, 0.95 * ru2 + 0.05 * (ud ** 2)) for ru2, ud in zip(running_up2, updir)]\n",
    "\tparam_up = [(p, p + ud) for p, ud in zip(tparams.values(), updir)]\n",
    "\n",
    "\tf_update = theano.function([], [], updates=ru2up + param_up, on_unused_input='ignore', name='adadelta_f_update')\n",
    "\n",
    "\treturn f_grad_shared, f_update"
   ]
  },
  {
   "cell_type": "code",
   "execution_count": 60,
   "id": "71bdb5a2",
   "metadata": {},
   "outputs": [],
   "source": [
    "def load_data(xFile,dFile,yFile):\n",
    "\tseqX = np.array(pickle.load(open(xFile, 'rb')))\n",
    "\tseqD = []\n",
    "\tif len(dFile) > 0: seqD = np.asarray(pickle.load(open(dFile, 'rb')), dtype=config.floatX)\n",
    "\tseqY = []\n",
    "\tif len(yFile) > 0: seqY = np.array(pickle.load(open(yFile, 'rb')))\n",
    "\treturn seqX, seqD, seqY"
   ]
  },
  {
   "cell_type": "code",
   "execution_count": null,
   "id": "54ec8fe7",
   "metadata": {},
   "outputs": [],
   "source": []
  },
  {
   "cell_type": "code",
   "execution_count": 61,
   "id": "29e53bd2",
   "metadata": {},
   "outputs": [],
   "source": [
    "def pickTwo(codes, iVector, jVector):\n",
    "\tfor first in codes:\n",
    "\t\tfor second in codes:\n",
    "\t\t\tif first == second: continue\n",
    "\t\t\tiVector.append(first)\n",
    "\t\t\tjVector.append(second)"
   ]
  },
  {
   "cell_type": "code",
   "execution_count": 62,
   "id": "8c0b369f",
   "metadata": {},
   "outputs": [],
   "source": [
    "def padMatrix(seqs, labels, options):\n",
    "\tn_samples = len(seqs)\n",
    "\tiVector = []\n",
    "\tjVector = []\n",
    "\tnumXcodes = options['numXcodes']\n",
    "\tnumYcodes = options['numYcodes']\n",
    "\n",
    "\tif numYcodes > 0:\n",
    "\t\tx = np.zeros((n_samples, numXcodes)).astype(config.floatX)\n",
    "\t\ty = np.zeros((n_samples, numYcodes)).astype(config.floatX)\n",
    "\t\tmask = np.zeros((n_samples,)).astype(config.floatX)\n",
    "\t\tfor idx, (seq, label) in enumerate(zip(seqs, labels[0].values())):\n",
    "#\t\tfor idx, (seq, label) in enumerate(zip(seqs, labels)):\n",
    "\t\t\tif not seq[0] == -1:\n",
    "\t\t\t\tx[idx][seq] = 1.\n",
    "\t\t\t\ty[idx][label] = 1.\n",
    "\t\t\t\tpickTwo(seq, iVector, jVector)\n",
    "\t\t\t\tmask[idx] = 1.\n",
    "\t\treturn x, y, mask, iVector, jVector\n",
    "\telse:\n",
    "\t\tx = np.zeros((n_samples, numXcodes)).astype(config.floatX)\n",
    "\t\tmask = np.zeros((n_samples,)).astype(config.floatX)\n",
    "\t\tfor idx, seq in enumerate(seqs):\n",
    "\t\t\tif not seq[0] == -1:\n",
    "\t\t\t\tx[idx][seq] = 1.\n",
    "\t\t\t\tpickTwo(seq, iVector, jVector)\n",
    "\t\t\t\tmask[idx] = 1.\n",
    "\t\treturn x, mask, iVector, jVector\n"
   ]
  },
  {
   "cell_type": "code",
   "execution_count": 73,
   "id": "636653d5",
   "metadata": {},
   "outputs": [],
   "source": [
    "def train_med2vec(seqFile='seqFile.txt', \n",
    "\t\t\t\tdemoFile='demoFile.txt',\n",
    "\t\t\t\tlabelFile='labelFile.txt',\n",
    "\t\t\t\toutFile='outFile.txt',\n",
    "\t\t\t\tmodelFile='modelFile.txt',\n",
    "\t\t\t\tL2_reg=0.001,\n",
    "\t\t\t\tnumXcodes=20000, \n",
    "\t\t\t\tnumYcodes=20000, \n",
    "\t\t\t\tembDimSize=1000,\n",
    "\t\t\t\thiddenDimSize=2000,\n",
    "\t\t\t\tbatchSize=100,\n",
    "\t\t\t\tdemoSize=2,\n",
    "\t\t\t\tlogEps=1e-8,\n",
    "\t\t\t\twindowSize=1,\n",
    "\t\t\t\tverbose=False,\n",
    "\t\t\t\tmaxEpochs=1000):\n",
    "\n",
    "\toptions = locals().copy()\n",
    "\tprint('initializing parameters')\n",
    "\tparams = init_params(options)\n",
    "\t#params = load_params(options)\n",
    "\ttparams = init_tparams(params)\n",
    "\n",
    "\tprint('building models')\n",
    "\tf_grad_shared = None\n",
    "\tf_update = None\n",
    "\tif demoSize > 0 and numYcodes > 0:\n",
    "\t\tx, d, y, mask, iVector, jVector, cost = build_model(tparams, options)\n",
    "\t\tgrads = T.grad(cost, wrt=list(tparams.values()))\n",
    "\t\tf_grad_shared, f_update = adadelta(tparams, grads, x, mask, iVector, jVector, cost, options, d=d, y=y)\n",
    "\telif demoSize == 0 and numYcodes > 0:\n",
    "\t\tx, y, mask, iVector, jVector, cost = build_model(tparams, options)\n",
    "\t\tgrads = T.grad(cost, wrt=list(tparams.values()))\n",
    "\t\tf_grad_shared, f_update = adadelta(tparams, grads, x, mask, iVector, jVector, cost, options, y=y)\n",
    "\telif demoSize > 0 and numYcodes == 0:\n",
    "\t\tx, d, mask, iVector, jVector, cost = build_model(tparams, options)\n",
    "\t\tgrads = T.grad(cost, wrt=list(tparams.values()))\n",
    "\t\tf_grad_shared, f_update = adadelta(tparams, grads, x, mask, iVector, jVector, cost, options, d=d)\n",
    "\telse:\n",
    "\t\tx, mask, iVector, jVector, cost = build_model(tparams, options)\n",
    "\t\tgrads = T.grad(cost, wrt=list(tparams.values()))\n",
    "\t\tf_grad_shared, f_update = adadelta(tparams, grads, x, mask, iVector, jVector, cost, options)\n",
    "\n",
    "\tprint('loading data')\n",
    "\tseqs, demos, labels = load_data(seqFile, demoFile, labelFile)\n",
    "\tn_batches = int(np.ceil(float(len(seqs)) / float(batchSize)))\n",
    "\n",
    "\tprint('training start')\n",
    "\tfor epoch in range(maxEpochs):\n",
    "\t\titeration = 0\n",
    "\t\tcostVector = []\n",
    "\t\tfor index in random.sample(range(n_batches), n_batches):\n",
    "\t\t\tbatchX = seqs[batchSize*index:batchSize*(index+1)]\n",
    "\t\t\tbatchY = []\n",
    "\t\t\tbatchD = []\n",
    "\t\t\tif demoSize > 0 and numYcodes > 0:\n",
    "\t\t\t\tbatchY = [labels.tolist()][batchSize*index:batchSize*(index+1)]\n",
    "\t\t\t\tx, y, mask, iVector, jVector = padMatrix(batchX, batchY, options)\n",
    "\t\t\t\tbatchD = demos[batchSize*index:batchSize*(index+1)]\n",
    "\t\t\t\tcost = f_grad_shared(x, batchD, y, mask, iVector, jVector)\n",
    "\t\t\telif demoSize == 0 and numYcodes > 0:\n",
    "#\t\t\t\tbatchY = labels[batchSize*index:batchSize*(index+1)]\n",
    "\t\t\t\tbatchY = [labels.tolist()][batchSize*index:batchSize*(index+1)]\n",
    "\t\t\t\tx, y, mask, iVector, jVector = padMatrix(batchX, batchY, options)\n",
    "\t\t\t\tcost = f_grad_shared(x, y, mask, iVector, jVector)\n",
    "\t\t\telif demoSize > 0 and numYcodes == 0:\n",
    "\t\t\t\tx, mask, iVector, jVector = padMatrix(batchX, batchY, options)\n",
    "\t\t\t\tbatchD = demos[batchSize*index:batchSize*(index+1)]\n",
    "\t\t\t\tcost = f_grad_shared(x, batchD, mask, iVector, jVector)\n",
    "\t\t\telse:\n",
    "\t\t\t\tx, mask, iVector, jVector = padMatrix(batchX, batchY, options)\n",
    "\t\t\t\tcost = f_grad_shared(x, mask, iVector, jVector)\n",
    "\t\t\tcostVector.append(cost)\n",
    "\t\t\tf_update()\n",
    "\t\t\tif (iteration % 10 == 0) and verbose: print('epoch:%d, iteration:%d/%d, cost:%f' % (epoch, iteration, n_batches, cost))\n",
    "\t\t\titeration += 1\n",
    "\t\tprint('epoch:%d, mean_cost:%f' % (epoch, np.mean(costVector)))\n",
    "\t\ttempParams = unzip(tparams)\n",
    "\t\tnp.savez_compressed(outFile + '.' + str(epoch), **tempParams)"
   ]
  },
  {
   "cell_type": "markdown",
   "id": "c36a035c",
   "metadata": {},
   "source": [
    "# main"
   ]
  },
  {
   "cell_type": "code",
   "execution_count": 74,
   "id": "50ce0a6a",
   "metadata": {},
   "outputs": [
    {
     "name": "stdout",
     "output_type": "stream",
     "text": [
      "initializing parameters\n",
      "building models\n",
      "loading data\n",
      "training start\n",
      "{'D_71': 0, 'D_84': 1, 'D_707': 2, 'D_80': 3, 'D_87': 4, 'D_89': 5, 'D_562': 6, 'D_72': 7, 'D_01': 8, 'D_5': 9, 'D_38': 10, 'D_959': 11, 'D_855': 12, 'D_188': 13, 'D_85': 14, 'D_99': 15, 'D_28': 16, 'D_76': 17, 'D_78': 18, 'D_41': 19, 'D_458': 20, 'D_140': 21, 'D_1': 22, 'D_120': 23, 'D_43': 24, 'D_107': 25, 'D_07': 26, 'D_028': 27, 'D_9': 28, 'D_411': 29, 'D_09': 30, 'D_278': 31, 'D_32': 32, 'D_904': 33, 'D_37': 34, 'D_403': 35, 'D_621': 36, 'D_44': 37, 'D_852': 38, 'D_27': 39, 'D_8': 40, 'D_53': 41, 'D_97': 42, 'D_070': 43, 'D_55': 44, 'D_500': 45, 'D_94': 46, 'D_084': 47, 'D_29': 48, 'D_90': 49, 'D_030': 50, 'D_966': 51, 'D_12': 52, 'D_428': 53, 'D_75': 54, 'D_273': 55, 'D_77': 56, 'D_18': 57, 'D_498': 58, 'D_586': 59, 'D_324': 60, 'D_314': 61, 'D_202': 62, 'D_283': 63, 'D_981': 64, 'D_98': 65, 'D_885': 66, 'D_330': 67, 'D_039': 68, 'D_878': 69, 'D_509': 70, 'D_381': 71, 'D_16': 72, 'D_272': 73, 'D_780': 74, 'D_541': 75, 'D_125': 76, 'D_640': 77, 'D_62': 78, 'D_765': 79, 'D_82': 80, 'D_002': 81, 'D_778': 82, 'D_824': 83, 'D_072': 84, 'D_848': 85, 'D_83': 86, 'D_534': 87, 'D_538': 88, 'D_578': 89, 'D_880': 90, 'D_700': 91, 'D_882': 92, 'D_51': 93, 'D_754': 94, 'D_03': 95, 'D_049': 96, 'D_158': 97, 'D_280': 98, 'D_933': 99, 'D_60': 100, 'D_582': 101, 'D_874': 102, 'D_93': 103, 'D_86': 104, 'D_930': 105, 'D_912': 106, 'D_956': 107, 'D_05': 108, 'D_598': 109, 'D_909': 110, 'D_934': 111, 'D_071': 112, 'D_24': 113, 'D_308': 114, 'D_506': 115, 'D_57': 116, 'D_388': 117, 'D_872': 118, 'D_301': 119, 'D_997': 120, 'D_828': 121, 'D_364': 122, 'D_879': 123, 'D_384': 124, 'D_190': 125, 'D_385': 126, 'D_81': 127, 'D_56': 128, 'D_440': 129, 'D_996': 130, 'D_886': 131, 'D_68': 132, 'D_382': 133, 'D_130': 134, 'D_457': 135, 'D_895': 136, 'D_6': 137, 'D_378': 138, 'D_63': 139, 'D_803': 140, 'D_025': 141, 'D_282': 142, 'D_25': 143, 'D_96': 144, 'D_723': 145, 'D_65': 146, 'D_339': 147, 'D_450': 148, 'D_108': 149, 'D_989': 150, 'D_990': 151, 'D_58': 152, 'D_66': 153, 'D_151': 154, 'D_50': 155, 'D_42': 156, 'D_74': 157, 'D_194': 158, 'D_319': 159, 'D_11': 160, 'D_23': 161, 'D_100': 162}\n"
     ]
    },
    {
     "ename": "IndexError",
     "evalue": "too many indices for array",
     "output_type": "error",
     "traceback": [
      "\u001b[0;31m---------------------------------------------------------------------------\u001b[0m",
      "\u001b[0;31mIndexError\u001b[0m                                Traceback (most recent call last)",
      "\u001b[0;32m/tmp/ipykernel_496227/3117011056.py\u001b[0m in \u001b[0;36m<module>\u001b[0;34m\u001b[0m\n\u001b[0;32m----> 1\u001b[0;31m train_med2vec(seqFile='./mimic_demo/outdemo.seqs',\n\u001b[0m\u001b[1;32m      2\u001b[0m               \u001b[0mdemoFile\u001b[0m\u001b[0;34m=\u001b[0m\u001b[0;34m''\u001b[0m\u001b[0;34m,\u001b[0m\u001b[0;34m\u001b[0m\u001b[0;34m\u001b[0m\u001b[0m\n\u001b[1;32m      3\u001b[0m               \u001b[0mlabelFile\u001b[0m\u001b[0;34m=\u001b[0m\u001b[0;34m'./mimic_demo/outdemo.types'\u001b[0m\u001b[0;34m,\u001b[0m\u001b[0;34m\u001b[0m\u001b[0;34m\u001b[0m\u001b[0m\n\u001b[1;32m      4\u001b[0m               \u001b[0moutFile\u001b[0m\u001b[0;34m=\u001b[0m\u001b[0;34m'./mimic_demo/outresult.txt'\u001b[0m\u001b[0;34m,\u001b[0m\u001b[0;34m\u001b[0m\u001b[0;34m\u001b[0m\u001b[0m\n\u001b[1;32m      5\u001b[0m               \u001b[0mnumXcodes\u001b[0m\u001b[0;34m=\u001b[0m\u001b[0;36m20000\u001b[0m\u001b[0;34m,\u001b[0m\u001b[0;34m\u001b[0m\u001b[0;34m\u001b[0m\u001b[0m\n",
      "\u001b[0;32m/tmp/ipykernel_496227/4117441370.py\u001b[0m in \u001b[0;36mtrain_med2vec\u001b[0;34m(seqFile, demoFile, labelFile, outFile, modelFile, L2_reg, numXcodes, numYcodes, embDimSize, hiddenDimSize, batchSize, demoSize, logEps, windowSize, verbose, maxEpochs)\u001b[0m\n\u001b[1;32m     61\u001b[0m                         \u001b[0;32melif\u001b[0m \u001b[0mdemoSize\u001b[0m \u001b[0;34m==\u001b[0m \u001b[0;36m0\u001b[0m \u001b[0;32mand\u001b[0m \u001b[0mnumYcodes\u001b[0m \u001b[0;34m>\u001b[0m \u001b[0;36m0\u001b[0m\u001b[0;34m:\u001b[0m\u001b[0;34m\u001b[0m\u001b[0;34m\u001b[0m\u001b[0m\n\u001b[1;32m     62\u001b[0m                                 \u001b[0mprint\u001b[0m\u001b[0;34m(\u001b[0m\u001b[0mlabels\u001b[0m\u001b[0;34m)\u001b[0m\u001b[0;34m\u001b[0m\u001b[0;34m\u001b[0m\u001b[0m\n\u001b[0;32m---> 63\u001b[0;31m                                 \u001b[0mbatchY\u001b[0m \u001b[0;34m=\u001b[0m \u001b[0mlabels\u001b[0m\u001b[0;34m[\u001b[0m\u001b[0mbatchSize\u001b[0m\u001b[0;34m*\u001b[0m\u001b[0mindex\u001b[0m\u001b[0;34m:\u001b[0m\u001b[0mbatchSize\u001b[0m\u001b[0;34m*\u001b[0m\u001b[0;34m(\u001b[0m\u001b[0mindex\u001b[0m\u001b[0;34m+\u001b[0m\u001b[0;36m1\u001b[0m\u001b[0;34m)\u001b[0m\u001b[0;34m]\u001b[0m\u001b[0;34m\u001b[0m\u001b[0;34m\u001b[0m\u001b[0m\n\u001b[0m\u001b[1;32m     64\u001b[0m                                 \u001b[0;31m#batchY = [labels.tolist()][batchSize*index:batchSize*(index+1)]\u001b[0m\u001b[0;34m\u001b[0m\u001b[0;34m\u001b[0m\u001b[0;34m\u001b[0m\u001b[0m\n\u001b[1;32m     65\u001b[0m                                 \u001b[0mx\u001b[0m\u001b[0;34m,\u001b[0m \u001b[0my\u001b[0m\u001b[0;34m,\u001b[0m \u001b[0mmask\u001b[0m\u001b[0;34m,\u001b[0m \u001b[0miVector\u001b[0m\u001b[0;34m,\u001b[0m \u001b[0mjVector\u001b[0m \u001b[0;34m=\u001b[0m \u001b[0mpadMatrix\u001b[0m\u001b[0;34m(\u001b[0m\u001b[0mbatchX\u001b[0m\u001b[0;34m,\u001b[0m \u001b[0mbatchY\u001b[0m\u001b[0;34m,\u001b[0m \u001b[0moptions\u001b[0m\u001b[0;34m)\u001b[0m\u001b[0;34m\u001b[0m\u001b[0;34m\u001b[0m\u001b[0m\n",
      "\u001b[0;31mIndexError\u001b[0m: too many indices for array"
     ]
    }
   ],
   "source": [
    "train_med2vec(seqFile='./mimic_demo/outdemo.seqs',\n",
    "              demoFile='',\n",
    "              labelFile='./mimic_demo/outdemo.types', \n",
    "              outFile='./mimic_demo/outresult.txt',\n",
    "              numXcodes=20000,\n",
    "              numYcodes=20000, \n",
    "              embDimSize=1000, \n",
    "              hiddenDimSize=2000, \n",
    "              batchSize=100, \n",
    "              maxEpochs=10,\n",
    "              L2_reg=0.001,\n",
    "              demoSize=0,\n",
    "              windowSize=1,\n",
    "              logEps=1e-8,\n",
    "              verbose='store_true')"
   ]
  },
  {
   "cell_type": "code",
   "execution_count": 75,
   "id": "c0f336a9",
   "metadata": {},
   "outputs": [],
   "source": [
    "seqs, demos, labels = load_data('./mimic_demo/outdemo.seqs','','./mimic_demo/outdemo.types')"
   ]
  },
  {
   "cell_type": "code",
   "execution_count": 78,
   "id": "9e901ce6",
   "metadata": {},
   "outputs": [
    {
     "data": {
      "text/plain": [
       "56"
      ]
     },
     "execution_count": 78,
     "metadata": {},
     "output_type": "execute_result"
    }
   ],
   "source": [
    "len(seqs)"
   ]
  },
  {
   "cell_type": "code",
   "execution_count": 82,
   "id": "95cdd154",
   "metadata": {},
   "outputs": [
    {
     "data": {
      "text/plain": [
       "163"
      ]
     },
     "execution_count": 82,
     "metadata": {},
     "output_type": "execute_result"
    }
   ],
   "source": [
    "len(labels.tolist())"
   ]
  },
  {
   "cell_type": "code",
   "execution_count": null,
   "id": "20861e5a",
   "metadata": {},
   "outputs": [],
   "source": []
  }
 ],
 "metadata": {
  "kernelspec": {
   "display_name": "Python 3 (ipykernel)",
   "language": "python",
   "name": "python3"
  },
  "language_info": {
   "codemirror_mode": {
    "name": "ipython",
    "version": 3
   },
   "file_extension": ".py",
   "mimetype": "text/x-python",
   "name": "python",
   "nbconvert_exporter": "python",
   "pygments_lexer": "ipython3",
   "version": "3.8.12"
  }
 },
 "nbformat": 4,
 "nbformat_minor": 5
}
